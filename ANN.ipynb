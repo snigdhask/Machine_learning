{
 "cells": [
  {
   "cell_type": "code",
   "execution_count": 9,
   "id": "c4283332-2407-4e5e-8ca6-3a980f74d195",
   "metadata": {},
   "outputs": [],
   "source": [
    "import numpy as np"
   ]
  },
  {
   "cell_type": "code",
   "execution_count": 11,
   "id": "8ec22086-ac38-485e-bb18-45a1a413d763",
   "metadata": {},
   "outputs": [],
   "source": [
    "X = np.array(([2, 9], [1, 5], [3, 6]), dtype=float) \n",
    "Y= np.array(([92], [86], [89]), dtype=float)\n",
    "X = X/np.amax(X,axis=0)\n",
    "Y= Y/100"
   ]
  },
  {
   "cell_type": "code",
   "execution_count": 12,
   "id": "36016a28-da85-47f2-a4a1-950193319c0b",
   "metadata": {},
   "outputs": [],
   "source": [
    "epoch=5000\n",
    "lr=0.1\n",
    "inputlayer_neurons = 2\n",
    "hiddenlayer_neurons = 3\n",
    "output_neurons = 1"
   ]
  },
  {
   "cell_type": "code",
   "execution_count": 13,
   "id": "e0151be6-6c84-4268-bbdd-15e0afbb9743",
   "metadata": {},
   "outputs": [],
   "source": [
    "wh=np.random.uniform(size=(inputlayer_neurons, hiddenlayer_neurons))\n",
    "bh=np.random.uniform(size=(1,hiddenlayer_neurons))\n",
    "wout=np.random.uniform(size=(hiddenlayer_neurons,output_neurons))  \n",
    "bout=np.random.uniform(size=(1,output_neurons))\n"
   ]
  },
  {
   "cell_type": "code",
   "execution_count": 14,
   "id": "1e73315a-158b-4107-8fb9-1a08c992ef7a",
   "metadata": {},
   "outputs": [],
   "source": [
    "def sigmoid(X):\n",
    "    return 1/(1 + np.exp(-X))\n",
    "def derivatives_sigmoid(x):\n",
    "    return x * (1 - x)"
   ]
  },
  {
   "cell_type": "code",
   "execution_count": 15,
   "id": "e62a0af2-503c-4d7d-a774-0812ddd91158",
   "metadata": {},
   "outputs": [
    {
     "name": "stdout",
     "output_type": "stream",
     "text": [
      "Input: \n",
      "[[0.66666667 1.        ]\n",
      " [0.33333333 0.55555556]\n",
      " [1.         0.66666667]]\n",
      "Actual Output: \n",
      "[[0.92]\n",
      " [0.86]\n",
      " [0.89]]\n",
      "Predicted Output: \n",
      " [[0.87964013]\n",
      " [0.86841359]\n",
      " [0.88195811]]\n"
     ]
    }
   ],
   "source": [
    "for i in range(epoch):\n",
    "\n",
    "    hinp1=np.dot (X, wh)\n",
    "    hinp=hinp1 + bh\n",
    "    hlayer_act =sigmoid(hinp) \n",
    "    outinp1=np.dot (hlayer_act, wout)\n",
    "    outinp= outinp1+ bout\n",
    "    output =sigmoid (outinp)\n",
    "    \n",
    "    EO =y-output\n",
    "    outgrad =derivatives_sigmoid (output)\n",
    "    d_output = EO* outgrad\n",
    "    EH = d_output.dot (wout.T)\n",
    "hiddengrad =  derivatives_sigmoid(hlayer_act) \n",
    "d_hiddenlayer= EH *hiddengrad\n",
    "wout += hlayer_act.T.dot(d_output) *lr\n",
    "wh += X.T.dot (d_hiddenlayer) *lr\n",
    "print(\"Input: \\n\" + str(X))\n",
    "print(\"Actual Output: \\n\" + str(y))\n",
    "print(\"Predicted Output: \\n\",output)"
   ]
  },
  {
   "cell_type": "code",
   "execution_count": null,
   "id": "90f9e038-7a81-44b7-9e21-1faafce8ba69",
   "metadata": {},
   "outputs": [],
   "source": []
  }
 ],
 "metadata": {
  "kernelspec": {
   "display_name": "Python 3 (ipykernel)",
   "language": "python",
   "name": "python3"
  },
  "language_info": {
   "codemirror_mode": {
    "name": "ipython",
    "version": 3
   },
   "file_extension": ".py",
   "mimetype": "text/x-python",
   "name": "python",
   "nbconvert_exporter": "python",
   "pygments_lexer": "ipython3",
   "version": "3.11.7"
  }
 },
 "nbformat": 4,
 "nbformat_minor": 5
}
